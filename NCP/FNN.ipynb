{
 "cells": [
  {
   "cell_type": "code",
   "execution_count": 1,
   "id": "27f5d56c-6aa3-4a7a-a1b6-64c162c4968c",
   "metadata": {},
   "outputs": [
    {
     "name": "stderr",
     "output_type": "stream",
     "text": [
      "2023-08-31 16:38:23.063243: I tensorflow/tsl/cuda/cudart_stub.cc:28] Could not find cuda drivers on your machine, GPU will not be used.\n",
      "2023-08-31 16:38:23.164704: I tensorflow/tsl/cuda/cudart_stub.cc:28] Could not find cuda drivers on your machine, GPU will not be used.\n",
      "2023-08-31 16:38:23.166449: I tensorflow/core/platform/cpu_feature_guard.cc:182] This TensorFlow binary is optimized to use available CPU instructions in performance-critical operations.\n",
      "To enable the following instructions: FMA, in other operations, rebuild TensorFlow with the appropriate compiler flags.\n",
      "2023-08-31 16:38:24.754094: W tensorflow/compiler/tf2tensorrt/utils/py_utils.cc:38] TF-TRT Warning: Could not find TensorRT\n"
     ]
    }
   ],
   "source": [
    "import numpy as np\n",
    "from tensorflow.keras.datasets import imdb\n",
    "from tensorflow.keras.models import Sequential\n",
    "from tensorflow.keras.layers import Dense, Flatten, Embedding\n",
    "from tensorflow.keras.preprocessing import sequence"
   ]
  },
  {
   "cell_type": "code",
   "execution_count": 2,
   "id": "1bfa9ab9-8a2b-42d9-aa49-a140fe9780c2",
   "metadata": {},
   "outputs": [],
   "source": [
    "max_words = 10000"
   ]
  },
  {
   "cell_type": "code",
   "execution_count": 3,
   "id": "a279e892-07c3-4ad6-a208-7973466d3013",
   "metadata": {},
   "outputs": [],
   "source": [
    "(x_train, y_train), (x_test, y_test) = imdb.load_data(num_words=max_words)"
   ]
  },
  {
   "cell_type": "code",
   "execution_count": 4,
   "id": "add54fff-67ec-4cc5-8768-ab68cb48c284",
   "metadata": {},
   "outputs": [],
   "source": [
    "max_sequence_length = 500\n",
    "x_train = sequence.pad_sequences(x_train, maxlen=max_sequence_length)\n",
    "x_test = sequence.pad_sequences(x_test, maxlen=max_sequence_length)"
   ]
  },
  {
   "cell_type": "code",
   "execution_count": 5,
   "id": "66133149-25f7-4ca2-8102-579ee70eadf6",
   "metadata": {},
   "outputs": [],
   "source": [
    "model = Sequential()\n",
    "model.add(Embedding(max_words, 32, input_length=max_sequence_length))\n",
    "model.add(Flatten())\n",
    "model.add(Dense(128, activation='relu'))\n",
    "model.add(Dense(1, activation='sigmoid'))"
   ]
  },
  {
   "cell_type": "code",
   "execution_count": 6,
   "id": "18b0e7e2-a1af-4f36-931d-df401dae5a9e",
   "metadata": {},
   "outputs": [],
   "source": [
    "model.compile(loss='binary_crossentropy', optimizer='adam', metrics=['accuracy'])"
   ]
  },
  {
   "cell_type": "code",
   "execution_count": 7,
   "id": "e7876936-aba0-41b2-95ba-1a98a516495f",
   "metadata": {},
   "outputs": [
    {
     "name": "stdout",
     "output_type": "stream",
     "text": [
      "Epoch 1/5\n",
      "196/196 [==============================] - 46s 232ms/step - loss: 0.4527 - accuracy: 0.7654 - val_loss: 0.2929 - val_accuracy: 0.8742\n",
      "Epoch 2/5\n",
      "196/196 [==============================] - 39s 199ms/step - loss: 0.1466 - accuracy: 0.9469 - val_loss: 0.3218 - val_accuracy: 0.8720\n",
      "Epoch 3/5\n",
      "196/196 [==============================] - 38s 195ms/step - loss: 0.0350 - accuracy: 0.9914 - val_loss: 0.3956 - val_accuracy: 0.8685\n",
      "Epoch 4/5\n",
      "196/196 [==============================] - 38s 193ms/step - loss: 0.0051 - accuracy: 0.9996 - val_loss: 0.4542 - val_accuracy: 0.8707\n",
      "Epoch 5/5\n",
      "196/196 [==============================] - 43s 217ms/step - loss: 0.0013 - accuracy: 1.0000 - val_loss: 0.4904 - val_accuracy: 0.8704\n"
     ]
    },
    {
     "data": {
      "text/plain": [
       "<keras.src.callbacks.History at 0x7fa056402850>"
      ]
     },
     "execution_count": 7,
     "metadata": {},
     "output_type": "execute_result"
    }
   ],
   "source": [
    "model.fit(x_train, y_train, validation_data=(x_test, y_test), epochs=5, batch_size=128)"
   ]
  },
  {
   "cell_type": "code",
   "execution_count": null,
   "id": "6c8b24e7-a42c-4957-828f-920b5bc12a6d",
   "metadata": {},
   "outputs": [],
   "source": []
  }
 ],
 "metadata": {
  "kernelspec": {
   "display_name": "Python 3 (ipykernel)",
   "language": "python",
   "name": "python3"
  },
  "language_info": {
   "codemirror_mode": {
    "name": "ipython",
    "version": 3
   },
   "file_extension": ".py",
   "mimetype": "text/x-python",
   "name": "python",
   "nbconvert_exporter": "python",
   "pygments_lexer": "ipython3",
   "version": "3.11.2"
  }
 },
 "nbformat": 4,
 "nbformat_minor": 5
}
