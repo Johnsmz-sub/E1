{
 "cells": [
  {
   "cell_type": "code",
   "execution_count": 1,
   "id": "1233e93b-4d87-43f5-b192-894e94e0ce1d",
   "metadata": {},
   "outputs": [
    {
     "name": "stderr",
     "output_type": "stream",
     "text": [
      "2023-08-31 15:29:03.719417: I tensorflow/tsl/cuda/cudart_stub.cc:28] Could not find cuda drivers on your machine, GPU will not be used.\n",
      "2023-08-31 15:29:03.824889: I tensorflow/tsl/cuda/cudart_stub.cc:28] Could not find cuda drivers on your machine, GPU will not be used.\n",
      "2023-08-31 15:29:03.827832: I tensorflow/core/platform/cpu_feature_guard.cc:182] This TensorFlow binary is optimized to use available CPU instructions in performance-critical operations.\n",
      "To enable the following instructions: FMA, in other operations, rebuild TensorFlow with the appropriate compiler flags.\n",
      "2023-08-31 15:29:05.407500: W tensorflow/compiler/tf2tensorrt/utils/py_utils.cc:38] TF-TRT Warning: Could not find TensorRT\n"
     ]
    }
   ],
   "source": [
    "import tensorflow as tf"
   ]
  },
  {
   "cell_type": "code",
   "execution_count": 2,
   "id": "194c2edc-1f4a-4654-ac3d-b0a3a7c3c9ca",
   "metadata": {},
   "outputs": [],
   "source": [
    "mnist = tf.keras.datasets.mnist\n",
    "(x_train, y_train), (x_test, y_test) = mnist.load_data()"
   ]
  },
  {
   "cell_type": "code",
   "execution_count": 3,
   "id": "bc782235-7f7b-4aa1-af74-923ad866e9ad",
   "metadata": {},
   "outputs": [],
   "source": [
    "x_train = x_train / 255.0\n",
    "x_test = x_test / 255.0"
   ]
  },
  {
   "cell_type": "code",
   "execution_count": 4,
   "id": "62e23a6c-c653-4e84-a4f4-183efdf957c3",
   "metadata": {},
   "outputs": [],
   "source": [
    "learning_rate = 0.001\n",
    "num_epochs = 10\n",
    "batch_size = 128"
   ]
  },
  {
   "cell_type": "code",
   "execution_count": 5,
   "id": "50ac62b9-f56c-46b3-83b2-70b44d8514ed",
   "metadata": {},
   "outputs": [],
   "source": [
    "x_train = x_train.reshape(-1, 28, 28)\n",
    "x_test = x_test.reshape(-1, 28, 28)"
   ]
  },
  {
   "cell_type": "code",
   "execution_count": 6,
   "id": "e7f98539-de62-4d31-8b74-25c67a7c289f",
   "metadata": {},
   "outputs": [],
   "source": [
    "model_rnn = tf.keras.models.Sequential([\n",
    "    tf.keras.layers.SimpleRNN(128, input_shape=(28, 28)),\n",
    "    tf.keras.layers.Dense(10, activation='softmax')\n",
    "])"
   ]
  },
  {
   "cell_type": "code",
   "execution_count": 7,
   "id": "d4fa8d1b-8099-4d66-8a6f-ced38bd20b50",
   "metadata": {},
   "outputs": [],
   "source": [
    "model_rnn.compile(optimizer=tf.keras.optimizers.Adam(learning_rate),\n",
    "                  loss='sparse_categorical_crossentropy',\n",
    "                  metrics=['accuracy'])"
   ]
  },
  {
   "cell_type": "code",
   "execution_count": 8,
   "id": "acd9eead-d132-4292-8e23-d24051c01d1a",
   "metadata": {},
   "outputs": [
    {
     "name": "stdout",
     "output_type": "stream",
     "text": [
      "Epoch 1/10\n"
     ]
    },
    {
     "name": "stderr",
     "output_type": "stream",
     "text": [
      "2023-08-31 15:29:07.803749: W tensorflow/tsl/framework/cpu_allocator_impl.cc:83] Allocation of 188160000 exceeds 10% of free system memory.\n"
     ]
    },
    {
     "name": "stdout",
     "output_type": "stream",
     "text": [
      "469/469 [==============================] - 25s 50ms/step - loss: 0.4423 - accuracy: 0.8672\n",
      "Epoch 2/10\n",
      "469/469 [==============================] - 23s 50ms/step - loss: 0.1925 - accuracy: 0.9437\n",
      "Epoch 3/10\n",
      "469/469 [==============================] - 24s 51ms/step - loss: 0.1498 - accuracy: 0.9562\n",
      "Epoch 4/10\n",
      "469/469 [==============================] - 23s 48ms/step - loss: 0.1256 - accuracy: 0.9632\n",
      "Epoch 5/10\n",
      "469/469 [==============================] - 25s 53ms/step - loss: 0.1130 - accuracy: 0.9674\n",
      "Epoch 6/10\n",
      "469/469 [==============================] - 32s 68ms/step - loss: 0.1048 - accuracy: 0.9694\n",
      "Epoch 7/10\n",
      "469/469 [==============================] - 23s 50ms/step - loss: 0.0965 - accuracy: 0.9725\n",
      "Epoch 8/10\n",
      "469/469 [==============================] - 23s 48ms/step - loss: 0.0860 - accuracy: 0.9746\n",
      "Epoch 9/10\n",
      "469/469 [==============================] - 23s 48ms/step - loss: 0.0845 - accuracy: 0.9755\n",
      "Epoch 10/10\n",
      "469/469 [==============================] - 23s 48ms/step - loss: 0.0795 - accuracy: 0.9767\n"
     ]
    },
    {
     "data": {
      "text/plain": [
       "<keras.src.callbacks.History at 0x7fbc117d0610>"
      ]
     },
     "execution_count": 8,
     "metadata": {},
     "output_type": "execute_result"
    }
   ],
   "source": [
    "model_rnn.fit(x_train, y_train, epochs=num_epochs, batch_size=batch_size)"
   ]
  },
  {
   "cell_type": "code",
   "execution_count": 9,
   "id": "2ad5c62a-38b7-49cb-83ed-b09d5e21a61a",
   "metadata": {},
   "outputs": [
    {
     "name": "stdout",
     "output_type": "stream",
     "text": [
      "313/313 [==============================] - 3s 7ms/step - loss: 0.0905 - accuracy: 0.9723\n",
      "RNN Test Loss: 0.09046436101198196\n",
      "RNN Test Accuracy: 0.9722999930381775\n"
     ]
    }
   ],
   "source": [
    "test_loss, test_accuracy = model_rnn.evaluate(x_test, y_test)\n",
    "print(\"RNN Test Loss:\", test_loss)\n",
    "print(\"RNN Test Accuracy:\", test_accuracy)"
   ]
  }
 ],
 "metadata": {
  "kernelspec": {
   "display_name": "Python 3 (ipykernel)",
   "language": "python",
   "name": "python3"
  },
  "language_info": {
   "codemirror_mode": {
    "name": "ipython",
    "version": 3
   },
   "file_extension": ".py",
   "mimetype": "text/x-python",
   "name": "python",
   "nbconvert_exporter": "python",
   "pygments_lexer": "ipython3",
   "version": "3.11.2"
  }
 },
 "nbformat": 4,
 "nbformat_minor": 5
}
